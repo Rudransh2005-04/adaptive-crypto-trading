{
 "cells": [
  {
   "cell_type": "code",
   "execution_count": 3,
   "id": "58f6cbc0-f494-4a70-99d8-33f6cd5293d6",
   "metadata": {},
   "outputs": [
    {
     "name": "stdout",
     "output_type": "stream",
     "text": [
      "Saved 500 rows to data/doge_usdt.csv\n"
     ]
    }
   ],
   "source": [
    "import ccxt\n",
    "import pandas as pd\n",
    "\n",
    "def fetch_ohlcv(symbol: str, since: str = '2023-07-14T00:00:00Z'):\n",
    "    \"\"\"\n",
    "    Fetches daily OHLCV data for a given symbol from Binance.\n",
    "    \n",
    "    Parameters:\n",
    "      symbol: e.g., 'DOGE/USDT'\n",
    "      since: ISO8601 string for start date\n",
    "    \n",
    "    Returns:\n",
    "      DataFrame with columns ['open','high','low','close','volume'], indexed by timestamp.\n",
    "    \"\"\"\n",
    "    exchange = ccxt.binance()\n",
    "    # Convert ISO string to milliseconds since epoch\n",
    "    since_ms = exchange.parse8601(since)\n",
    "    ohlcv = exchange.fetch_ohlcv(symbol, timeframe='1d', since=since_ms)\n",
    "    df = pd.DataFrame(ohlcv, columns=['timestamp','open','high','low','close','volume'])\n",
    "    df['timestamp'] = pd.to_datetime(df['timestamp'], unit='ms')\n",
    "    return df.set_index('timestamp')\n",
    "\n",
    "# Test it:\n",
    "df = fetch_ohlcv('DOGE/USDT')\n",
    "df.head()\n",
    "# Save the fetched OHLCV data to CSV\n",
    "df.to_csv('data/doge_usdt.csv')\n",
    "print(f\"Saved {len(df)} rows to data/doge_usdt.csv\")\n",
    "\n"
   ]
  },
  {
   "cell_type": "code",
   "execution_count": 2,
   "id": "a94106f8-33a5-400b-a631-4fef27821150",
   "metadata": {},
   "outputs": [
    {
     "data": {
      "text/plain": [
       "'C:\\\\Users\\\\Admin'"
      ]
     },
     "execution_count": 2,
     "metadata": {},
     "output_type": "execute_result"
    }
   ],
   "source": [
    "import os\n",
    "os.getcwd()\n"
   ]
  },
  {
   "cell_type": "code",
   "execution_count": null,
   "id": "7e9cb90a-bae2-445d-9112-cf51bc3fd9d0",
   "metadata": {},
   "outputs": [],
   "source": []
  }
 ],
 "metadata": {
  "kernelspec": {
   "display_name": "Python [conda env:crypto-algo]",
   "language": "python",
   "name": "conda-env-crypto-algo-py"
  },
  "language_info": {
   "codemirror_mode": {
    "name": "ipython",
    "version": 3
   },
   "file_extension": ".py",
   "mimetype": "text/x-python",
   "name": "python",
   "nbconvert_exporter": "python",
   "pygments_lexer": "ipython3",
   "version": "3.10.18"
  }
 },
 "nbformat": 4,
 "nbformat_minor": 5
}
